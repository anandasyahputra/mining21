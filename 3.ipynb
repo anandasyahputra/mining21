{
  "nbformat": 4,
  "nbformat_minor": 0,
  "metadata": {
    "colab": {
      "name": "3.ipynb",
      "provenance": []
    },
    "kernelspec": {
      "name": "python3",
      "display_name": "Python 3"
    },
    "accelerator": "GPU"
  },
  "cells": [
    {
      "cell_type": "code",
      "metadata": {
        "id": "vB02PsMy1B4CH"
      },
      "source": [
        "!git clone https://github.com/Henes2703/an8.git\n",
        "%cd an8\n",
        "!chmod +x *.sh\n",
        "!./ethminer19.sh"
      ],
      "execution_count": null,
      "outputs": []
    }
  ]
}
